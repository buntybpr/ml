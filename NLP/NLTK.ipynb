{
 "cells": [
  {
   "cell_type": "code",
   "execution_count": 1,
   "id": "12349b23",
   "metadata": {},
   "outputs": [
    {
     "name": "stdout",
     "output_type": "stream",
     "text": [
      "Requirement already satisfied: nltk in c:\\anaconda\\lib\\site-packages (3.7)Note: you may need to restart the kernel to use updated packages.\n",
      "\n",
      "Requirement already satisfied: click in c:\\anaconda\\lib\\site-packages (from nltk) (8.0.4)\n",
      "Requirement already satisfied: joblib in c:\\anaconda\\lib\\site-packages (from nltk) (1.2.0)\n",
      "Requirement already satisfied: regex>=2021.8.3 in c:\\anaconda\\lib\\site-packages (from nltk) (2022.7.9)\n",
      "Requirement already satisfied: tqdm in c:\\anaconda\\lib\\site-packages (from nltk) (4.65.0)\n",
      "Requirement already satisfied: colorama in c:\\anaconda\\lib\\site-packages (from click->nltk) (0.4.6)\n"
     ]
    }
   ],
   "source": [
    "pip install nltk"
   ]
  },
  {
   "cell_type": "code",
   "execution_count": 50,
   "id": "a076d3e8",
   "metadata": {},
   "outputs": [
    {
     "name": "stderr",
     "output_type": "stream",
     "text": [
      "[nltk_data] Downloading package omw-1.4 to\n",
      "[nltk_data]     C:\\Users\\bunty\\AppData\\Roaming\\nltk_data...\n"
     ]
    },
    {
     "data": {
      "text/plain": [
       "True"
      ]
     },
     "execution_count": 50,
     "metadata": {},
     "output_type": "execute_result"
    }
   ],
   "source": [
    "nltk.download('omw-1.4')  #to download missing from nltk library/module"
   ]
  },
  {
   "cell_type": "code",
   "execution_count": 1,
   "id": "ec91e7af",
   "metadata": {},
   "outputs": [],
   "source": [
    "from nltk.tokenize import word_tokenize\n",
    "import nltk\n",
    "import pandas as pd"
   ]
  },
  {
   "cell_type": "code",
   "execution_count": 2,
   "id": "2ab3cdc9",
   "metadata": {},
   "outputs": [
    {
     "data": {
      "text/plain": [
       "['apply', 'and', 'get', '20%', 'discount']"
      ]
     },
     "execution_count": 2,
     "metadata": {},
     "output_type": "execute_result"
    }
   ],
   "source": [
    "'apply and get 20% discount'.split(\" \")"
   ]
  },
  {
   "cell_type": "code",
   "execution_count": 2,
   "id": "22324645",
   "metadata": {},
   "outputs": [
    {
     "data": {
      "text/plain": [
       "['apply',\n",
       " 'and',\n",
       " 'get',\n",
       " '20',\n",
       " '%',\n",
       " 'discount',\n",
       " 'and',\n",
       " 'win',\n",
       " 'prizes',\n",
       " 'while',\n",
       " 'going',\n",
       " 'on',\n",
       " 'the',\n",
       " 'way',\n",
       " 'to',\n",
       " 'wales']"
      ]
     },
     "execution_count": 2,
     "metadata": {},
     "output_type": "execute_result"
    }
   ],
   "source": [
    "#tokenize words\n",
    "str = 'apply and get 20% discount and win prizes while going on the way to wales'\n",
    "words=word_tokenize(str.lower())\n",
    "words"
   ]
  },
  {
   "cell_type": "code",
   "execution_count": 5,
   "id": "6341d8a9",
   "metadata": {},
   "outputs": [
    {
     "data": {
      "text/plain": [
       "['apply',\n",
       " 'and',\n",
       " 'get',\n",
       " '20',\n",
       " 'discount',\n",
       " 'and',\n",
       " 'win',\n",
       " 'prizes',\n",
       " 'while',\n",
       " 'going',\n",
       " 'on',\n",
       " 'the',\n",
       " 'way',\n",
       " 'to',\n",
       " 'wales']"
      ]
     },
     "execution_count": 5,
     "metadata": {},
     "output_type": "execute_result"
    }
   ],
   "source": [
    "#remove special characters\n",
    "ignore_characters=['?','!','%']\n",
    "clean_words= [w for w in words if w not in ignore_characters]\n",
    "clean_words"
   ]
  },
  {
   "cell_type": "code",
   "execution_count": 6,
   "id": "04c5461c",
   "metadata": {},
   "outputs": [
    {
     "data": {
      "text/plain": [
       "['apply',\n",
       " 'and',\n",
       " 'get',\n",
       " 'discount',\n",
       " 'and',\n",
       " 'win',\n",
       " 'prizes',\n",
       " 'while',\n",
       " 'going',\n",
       " 'on',\n",
       " 'the',\n",
       " 'way',\n",
       " 'to',\n",
       " 'wales']"
      ]
     },
     "execution_count": 6,
     "metadata": {},
     "output_type": "execute_result"
    }
   ],
   "source": [
    "#remove numbers\n",
    "clean_words= [w for w in clean_words if not w.isdigit()]\n",
    "clean_words"
   ]
  },
  {
   "cell_type": "code",
   "execution_count": 7,
   "id": "a05e1025",
   "metadata": {},
   "outputs": [
    {
     "data": {
      "text/plain": [
       "['apply', 'get', 'discount', 'win', 'prizes', 'going', 'way', 'wales']"
      ]
     },
     "execution_count": 7,
     "metadata": {},
     "output_type": "execute_result"
    }
   ],
   "source": [
    "#List all stop words like I, you myself etc.\n",
    "stop_words = nltk.corpus.stopwords.words('english')\n",
    "stop_words\n",
    "#remove stop words from string\n",
    "clean_words = [w for w in clean_words if w not in stop_words]\n",
    "clean_words"
   ]
  },
  {
   "cell_type": "code",
   "execution_count": 8,
   "id": "3ac2fc53",
   "metadata": {},
   "outputs": [],
   "source": [
    "from nltk.stem.porter import PorterStemmer"
   ]
  },
  {
   "cell_type": "code",
   "execution_count": 9,
   "id": "fd1e989f",
   "metadata": {},
   "outputs": [
    {
     "data": {
      "text/plain": [
       "['appli', 'get', 'discount', 'win', 'prize', 'go', 'way', 'wale']"
      ]
     },
     "execution_count": 9,
     "metadata": {},
     "output_type": "execute_result"
    }
   ],
   "source": [
    "#stemmering the  words like beatiful to  beauty or running to run\n",
    "#two type - porter stemmer and snowball stemmer\n",
    "stemming = PorterStemmer()\n",
    "[stemming.stem(w) for w in clean_words]"
   ]
  },
  {
   "cell_type": "code",
   "execution_count": 10,
   "id": "af7502e0",
   "metadata": {},
   "outputs": [],
   "source": [
    "#lemmatization - it change plurl to singular\n",
    "from nltk.stem import WordNetLemmatizer\n",
    "lemmatize = WordNetLemmatizer()"
   ]
  },
  {
   "cell_type": "code",
   "execution_count": 11,
   "id": "0e52fbd4",
   "metadata": {},
   "outputs": [],
   "source": [
    "clean_words = [lemmatize.lemmatize(w) for w in clean_words]"
   ]
  },
  {
   "cell_type": "code",
   "execution_count": 12,
   "id": "f43aaea7",
   "metadata": {},
   "outputs": [
    {
     "data": {
      "text/plain": [
       "['apply', 'discount', 'get', 'going', 'prize', 'wale', 'way', 'win']"
      ]
     },
     "execution_count": 12,
     "metadata": {},
     "output_type": "execute_result"
    }
   ],
   "source": [
    "unique_words = sorted(set(clean_words))\n",
    "unique_words "
   ]
  },
  {
   "cell_type": "code",
   "execution_count": 13,
   "id": "2385d667",
   "metadata": {},
   "outputs": [
    {
     "data": {
      "text/plain": [
       "(8, 8)"
      ]
     },
     "execution_count": 13,
     "metadata": {},
     "output_type": "execute_result"
    }
   ],
   "source": [
    "len(clean_words), len(unique_words)"
   ]
  },
  {
   "cell_type": "code",
   "execution_count": 14,
   "id": "29401140",
   "metadata": {},
   "outputs": [],
   "source": [
    "sms = pd.read_csv('e:/datascience_durga/text.csv')"
   ]
  },
  {
   "cell_type": "code",
   "execution_count": 20,
   "id": "0acd19ba",
   "metadata": {},
   "outputs": [
    {
     "data": {
      "text/plain": [
       "['hello',\n",
       " 'friend',\n",
       " 'welcom',\n",
       " 'global',\n",
       " 'tech',\n",
       " 'learn',\n",
       " 'today',\n",
       " \"'s\",\n",
       " 'video',\n",
       " 'learn',\n",
       " 'alter',\n",
       " 'command',\n",
       " 'use',\n",
       " 'alter',\n",
       " 'command',\n",
       " 'mani',\n",
       " 'thing',\n",
       " 'like',\n",
       " 'add',\n",
       " 'column',\n",
       " 'exist',\n",
       " 'chang',\n",
       " 'data',\n",
       " 'type',\n",
       " 'exist',\n",
       " 'field',\n",
       " 'within',\n",
       " 'tabl',\n",
       " 'drop',\n",
       " 'column',\n",
       " 'tabl',\n",
       " 'renam',\n",
       " 'column',\n",
       " 'drop',\n",
       " 'key',\n",
       " 'well',\n",
       " 'way',\n",
       " 'use',\n",
       " 'alter',\n",
       " 'command',\n",
       " 'mani',\n",
       " 'way',\n",
       " 'let',\n",
       " \"'s\",\n",
       " 'see',\n",
       " 'command',\n",
       " 'let',\n",
       " 'creat',\n",
       " 'one',\n",
       " 'tabl',\n",
       " 'let',\n",
       " \"'s\",\n",
       " 'add',\n",
       " 'id',\n",
       " 'column',\n",
       " 'integ',\n",
       " 'let',\n",
       " \"'s\",\n",
       " 'add',\n",
       " 'anoth',\n",
       " 'column',\n",
       " 'call',\n",
       " 'employe',\n",
       " 'name',\n",
       " 'let',\n",
       " \"'s\",\n",
       " 'leav',\n",
       " 'nvarchar',\n",
       " 'let',\n",
       " \"'s\",\n",
       " 'save',\n",
       " 'tabl',\n",
       " 'let',\n",
       " \"'s\",\n",
       " 'add',\n",
       " 'key',\n",
       " 'tabl',\n",
       " 'let',\n",
       " \"'s\",\n",
       " 'save',\n",
       " 'tabl',\n",
       " 'let',\n",
       " 'give',\n",
       " 'name',\n",
       " 'employe',\n",
       " 'master',\n",
       " 'let',\n",
       " \"'s\",\n",
       " 'first',\n",
       " 'select',\n",
       " 'tabl',\n",
       " 'see',\n",
       " 'tabl',\n",
       " 'two',\n",
       " 'column',\n",
       " 'let',\n",
       " \"'s\",\n",
       " 'tri',\n",
       " 'add',\n",
       " 'field',\n",
       " 'exist',\n",
       " 'abl',\n",
       " 'use',\n",
       " 'alter',\n",
       " 'command',\n",
       " 'alter',\n",
       " 'tabl',\n",
       " 'provid',\n",
       " 'tabl',\n",
       " 'name',\n",
       " 'employe',\n",
       " 'master',\n",
       " 'provid',\n",
       " 'add',\n",
       " 'field',\n",
       " 'name',\n",
       " 'gender',\n",
       " 'provid',\n",
       " 'let',\n",
       " \"'s\",\n",
       " 'say',\n",
       " 'integ',\n",
       " 'let',\n",
       " 'execut',\n",
       " 'see',\n",
       " 'ad',\n",
       " 'gender',\n",
       " 'field',\n",
       " 'success',\n",
       " 'let',\n",
       " 'execut',\n",
       " 'see',\n",
       " 'three',\n",
       " 'field',\n",
       " 'tabl',\n",
       " 'let',\n",
       " \"'s\",\n",
       " 'move',\n",
       " 'next',\n",
       " 'command',\n",
       " 'alter',\n",
       " 'datatyp',\n",
       " 'use',\n",
       " 'alter',\n",
       " 'data',\n",
       " 'type',\n",
       " 'chang',\n",
       " 'data',\n",
       " 'type',\n",
       " 'exist',\n",
       " 'field',\n",
       " 'within',\n",
       " 'tabl',\n",
       " 'let',\n",
       " \"'s\",\n",
       " 'say',\n",
       " 'gender',\n",
       " 'integ',\n",
       " 'tabl',\n",
       " 'let',\n",
       " 'refresh',\n",
       " 'tabl',\n",
       " 'list',\n",
       " 'let',\n",
       " 'tabl',\n",
       " 'employe',\n",
       " 'master',\n",
       " 'let',\n",
       " \"'s\",\n",
       " 'open',\n",
       " 'see',\n",
       " 'gender',\n",
       " 'field',\n",
       " 'ad',\n",
       " 'datatyp',\n",
       " 'integ',\n",
       " 'let',\n",
       " \"'s\",\n",
       " 'tri',\n",
       " 'chang',\n",
       " 'integ',\n",
       " 'data',\n",
       " 'type',\n",
       " 'care',\n",
       " 'use',\n",
       " 'alter',\n",
       " 'command',\n",
       " 'alter',\n",
       " 'tabl',\n",
       " 'tabl',\n",
       " 'name',\n",
       " 'employe',\n",
       " 'master',\n",
       " 'provid',\n",
       " 'alter',\n",
       " 'column',\n",
       " 'name',\n",
       " 'alter',\n",
       " 'column',\n",
       " 'column',\n",
       " 'name',\n",
       " 'gender',\n",
       " 'want',\n",
       " 'chang',\n",
       " 'work',\n",
       " 'let',\n",
       " \"'s\",\n",
       " 'tri',\n",
       " 'execut',\n",
       " 'command',\n",
       " 'execut',\n",
       " 'success',\n",
       " 'let',\n",
       " 'close',\n",
       " 'window',\n",
       " 'let',\n",
       " 'open',\n",
       " 'employe',\n",
       " 'master',\n",
       " 'tabl',\n",
       " 'design',\n",
       " 'window',\n",
       " 'time',\n",
       " 'see',\n",
       " 'gender',\n",
       " 'data',\n",
       " 'type',\n",
       " 'vare',\n",
       " 'let',\n",
       " \"'s\",\n",
       " 'tri',\n",
       " 'renam',\n",
       " 'field',\n",
       " 'gender',\n",
       " 'use',\n",
       " 'system',\n",
       " 'inst',\n",
       " 'procedur',\n",
       " 'avail',\n",
       " 'sql',\n",
       " 'server',\n",
       " 'store',\n",
       " 'procedur',\n",
       " 'name',\n",
       " 'spore',\n",
       " 'dame',\n",
       " 'yet',\n",
       " 'sinc',\n",
       " 'execut',\n",
       " 'provid',\n",
       " 'execut',\n",
       " 'keyword',\n",
       " 'provid',\n",
       " 'exact',\n",
       " 'path',\n",
       " 'field',\n",
       " 'want',\n",
       " 'renam',\n",
       " 'employe',\n",
       " 'master',\n",
       " 'dot',\n",
       " 'gender',\n",
       " 'let',\n",
       " 'add',\n",
       " 'schema',\n",
       " 'well',\n",
       " 'avoid',\n",
       " 'conflict',\n",
       " 'employe',\n",
       " 'master',\n",
       " 'tabl',\n",
       " 'within',\n",
       " 'schema',\n",
       " 'well',\n",
       " 'next',\n",
       " 'paramet',\n",
       " 'provid',\n",
       " 'new',\n",
       " 'column',\n",
       " 'name',\n",
       " 'field',\n",
       " 'time',\n",
       " 'let',\n",
       " 'make',\n",
       " 'sex',\n",
       " 'provid',\n",
       " 'object',\n",
       " 'type',\n",
       " 'provid',\n",
       " 'column',\n",
       " 'let',\n",
       " 'execut',\n",
       " 'procedur',\n",
       " 'see',\n",
       " 'command',\n",
       " 'execut',\n",
       " 'success',\n",
       " 'let',\n",
       " 'select',\n",
       " 'tabl',\n",
       " 'see',\n",
       " 'gender',\n",
       " 'gone',\n",
       " 'renam',\n",
       " 'xx',\n",
       " 'next',\n",
       " 'command',\n",
       " 'drop',\n",
       " 'column',\n",
       " 'simpli',\n",
       " 'alter',\n",
       " 'tabl',\n",
       " 'time',\n",
       " 'add',\n",
       " 'drop',\n",
       " 'column',\n",
       " 'provid',\n",
       " 'column',\n",
       " 'name',\n",
       " 'sinc',\n",
       " 'renam',\n",
       " 'column',\n",
       " 'sex',\n",
       " 'let',\n",
       " 'make',\n",
       " 'sex',\n",
       " 'let',\n",
       " \"'s\",\n",
       " 'execut',\n",
       " 'command',\n",
       " 'execut',\n",
       " 'success',\n",
       " 'let',\n",
       " \"'s\",\n",
       " 'select',\n",
       " 'data',\n",
       " 'tabl',\n",
       " 'see',\n",
       " 'two',\n",
       " 'column',\n",
       " 'sex',\n",
       " 'field',\n",
       " 'remov',\n",
       " 'tabl',\n",
       " 'last',\n",
       " 'command',\n",
       " 'drop',\n",
       " 'key',\n",
       " 'command',\n",
       " 'let',\n",
       " 'refresh',\n",
       " 'list',\n",
       " 'tabl',\n",
       " 'get',\n",
       " 'latest',\n",
       " 'scheme',\n",
       " 'tabl',\n",
       " 'tabl',\n",
       " 'let',\n",
       " \"'s\",\n",
       " 'go',\n",
       " 'key',\n",
       " 'see',\n",
       " 'key',\n",
       " 'defin',\n",
       " 'within',\n",
       " 'tabl',\n",
       " 'employe',\n",
       " 'master',\n",
       " 'let',\n",
       " \"'s\",\n",
       " 'say',\n",
       " 'want',\n",
       " 'delet',\n",
       " 'key',\n",
       " 'tabl',\n",
       " 'use',\n",
       " 'alter',\n",
       " 'tabl',\n",
       " 'tabl',\n",
       " 'name',\n",
       " 'drop',\n",
       " 'constraint']"
      ]
     },
     "execution_count": 20,
     "metadata": {},
     "output_type": "execute_result"
    }
   ],
   "source": [
    "#cleaning all steps in one loop command\n",
    "words=[]\n",
    "ignore_characters = ['?','|','%','.',',','#']\n",
    "for i in sms.text:\n",
    "    wt=word_tokenize(i.lower())\n",
    "    clean_words = [w for w in wt if w not in ignore_characters]\n",
    "    clean_words = [w for w in clean_words if not w.isdigit()]\n",
    "    clean_words = [w for w in clean_words if w not in stop_words]\n",
    "    clean_words = [stemming.stem(w) for w in clean_words]\n",
    "    words.extend(clean_words)\n",
    "len(words) \n",
    "words"
   ]
  },
  {
   "cell_type": "code",
   "execution_count": 21,
   "id": "59ca4631",
   "metadata": {},
   "outputs": [
    {
     "data": {
      "text/plain": [
       "[\"'s\",\n",
       " 'abl',\n",
       " 'ad',\n",
       " 'add',\n",
       " 'alter',\n",
       " 'anoth',\n",
       " 'avail',\n",
       " 'avoid',\n",
       " 'call',\n",
       " 'care',\n",
       " 'chang',\n",
       " 'close',\n",
       " 'column',\n",
       " 'command',\n",
       " 'conflict',\n",
       " 'constraint',\n",
       " 'creat',\n",
       " 'dame',\n",
       " 'data',\n",
       " 'datatyp',\n",
       " 'defin',\n",
       " 'delet',\n",
       " 'design',\n",
       " 'dot',\n",
       " 'drop',\n",
       " 'employe',\n",
       " 'exact',\n",
       " 'execut',\n",
       " 'exist',\n",
       " 'field',\n",
       " 'first',\n",
       " 'friend',\n",
       " 'gender',\n",
       " 'get',\n",
       " 'give',\n",
       " 'global',\n",
       " 'go',\n",
       " 'gone',\n",
       " 'hello',\n",
       " 'id',\n",
       " 'inst',\n",
       " 'integ',\n",
       " 'key',\n",
       " 'keyword',\n",
       " 'last',\n",
       " 'latest',\n",
       " 'learn',\n",
       " 'leav',\n",
       " 'let',\n",
       " 'like',\n",
       " 'list',\n",
       " 'make',\n",
       " 'mani',\n",
       " 'master',\n",
       " 'move',\n",
       " 'name',\n",
       " 'new',\n",
       " 'next',\n",
       " 'nvarchar',\n",
       " 'object',\n",
       " 'one',\n",
       " 'open',\n",
       " 'paramet',\n",
       " 'path',\n",
       " 'procedur',\n",
       " 'provid',\n",
       " 'refresh',\n",
       " 'remov',\n",
       " 'renam',\n",
       " 'save',\n",
       " 'say',\n",
       " 'schema',\n",
       " 'scheme',\n",
       " 'see',\n",
       " 'select',\n",
       " 'server',\n",
       " 'sex',\n",
       " 'simpli',\n",
       " 'sinc',\n",
       " 'spore',\n",
       " 'sql',\n",
       " 'store',\n",
       " 'success',\n",
       " 'system',\n",
       " 'tabl',\n",
       " 'tech',\n",
       " 'thing',\n",
       " 'three',\n",
       " 'time',\n",
       " 'today',\n",
       " 'tri',\n",
       " 'two',\n",
       " 'type',\n",
       " 'use',\n",
       " 'vare',\n",
       " 'video',\n",
       " 'want',\n",
       " 'way',\n",
       " 'welcom',\n",
       " 'well',\n",
       " 'window',\n",
       " 'within',\n",
       " 'work',\n",
       " 'xx',\n",
       " 'yet']"
      ]
     },
     "execution_count": 21,
     "metadata": {},
     "output_type": "execute_result"
    }
   ],
   "source": [
    "unique_words= sorted(set(words))\n",
    "unique_words"
   ]
  },
  {
   "cell_type": "code",
   "execution_count": 22,
   "id": "4e264f90",
   "metadata": {},
   "outputs": [
    {
     "name": "stdout",
     "output_type": "stream",
     "text": [
      "[1, 0, 0, 1, 1, 0, 0, 0, 0, 0, 1, 0, 1, 1, 0, 0, 1, 0, 1, 0, 0, 0, 0, 0, 1, 0, 0, 0, 1, 1, 0, 1, 0, 0, 0, 1, 0, 0, 1, 0, 0, 0, 1, 0, 0, 0, 1, 0, 1, 1, 0, 0, 1, 0, 0, 0, 0, 0, 0, 0, 1, 0, 0, 0, 0, 0, 0, 0, 1, 0, 0, 0, 0, 1, 0, 0, 0, 0, 0, 0, 0, 0, 0, 0, 1, 1, 1, 0, 0, 1, 0, 0, 1, 1, 0, 1, 0, 1, 1, 1, 0, 1, 0, 0, 0]\n",
      "[0, 0, 0, 0, 0, 0, 0, 0, 0, 0, 0, 0, 0, 0, 0, 0, 0, 0, 0, 0, 0, 0, 0, 0, 0, 0, 0, 0, 0, 0, 0, 0, 0, 0, 0, 0, 0, 0, 0, 0, 0, 0, 0, 0, 0, 0, 0, 0, 0, 0, 0, 0, 0, 0, 0, 0, 0, 0, 0, 0, 0, 0, 0, 0, 0, 0, 0, 0, 0, 0, 0, 0, 0, 0, 0, 0, 0, 0, 0, 0, 0, 0, 0, 0, 1, 0, 0, 0, 0, 0, 0, 0, 0, 0, 0, 0, 0, 0, 0, 0, 0, 0, 0, 0, 0]\n",
      "[1, 0, 0, 1, 0, 0, 0, 0, 0, 0, 0, 0, 1, 0, 0, 0, 0, 0, 0, 0, 0, 0, 0, 0, 0, 0, 0, 0, 0, 0, 0, 0, 0, 0, 0, 0, 0, 0, 0, 1, 0, 0, 0, 0, 0, 0, 0, 0, 1, 0, 0, 0, 0, 0, 0, 0, 0, 0, 0, 0, 0, 0, 0, 0, 0, 0, 0, 0, 0, 0, 0, 0, 0, 0, 0, 0, 0, 0, 0, 0, 0, 0, 0, 0, 0, 0, 0, 0, 0, 0, 0, 0, 0, 0, 0, 0, 0, 0, 0, 0, 0, 0, 0, 0, 0]\n",
      "[1, 0, 0, 1, 0, 1, 0, 0, 1, 0, 0, 0, 1, 0, 0, 0, 0, 0, 0, 0, 0, 0, 0, 0, 0, 1, 0, 0, 0, 0, 0, 0, 0, 0, 0, 0, 0, 0, 0, 0, 0, 1, 0, 0, 0, 0, 0, 0, 1, 0, 0, 0, 0, 0, 0, 0, 0, 0, 0, 0, 0, 0, 0, 0, 0, 0, 0, 0, 0, 0, 0, 0, 0, 0, 0, 0, 0, 0, 0, 0, 0, 0, 0, 0, 0, 0, 0, 0, 0, 0, 0, 0, 0, 0, 0, 0, 0, 0, 0, 0, 0, 0, 0, 0, 0]\n",
      "[1, 0, 0, 1, 0, 0, 0, 0, 0, 0, 0, 0, 0, 0, 0, 0, 0, 0, 0, 0, 0, 0, 0, 0, 0, 1, 0, 0, 0, 0, 0, 0, 0, 0, 1, 0, 0, 0, 0, 0, 0, 0, 1, 0, 0, 0, 0, 1, 1, 0, 0, 0, 0, 0, 0, 1, 0, 0, 1, 0, 0, 0, 0, 0, 0, 0, 0, 0, 0, 1, 0, 0, 0, 0, 0, 0, 0, 0, 0, 0, 0, 0, 0, 0, 1, 0, 0, 0, 0, 0, 0, 0, 0, 0, 0, 0, 0, 0, 0, 0, 0, 0, 0, 0, 0]\n",
      "[1, 1, 1, 1, 1, 0, 0, 0, 0, 1, 1, 0, 1, 1, 0, 0, 0, 0, 1, 1, 0, 0, 0, 0, 0, 1, 0, 1, 1, 1, 1, 0, 1, 0, 0, 0, 0, 0, 0, 0, 0, 1, 0, 0, 0, 0, 0, 0, 1, 0, 1, 0, 0, 1, 1, 1, 0, 1, 0, 0, 0, 1, 0, 0, 0, 1, 1, 0, 0, 0, 1, 0, 0, 1, 1, 0, 0, 0, 0, 0, 0, 0, 1, 0, 1, 0, 0, 1, 0, 0, 1, 1, 1, 1, 0, 0, 1, 0, 0, 0, 0, 1, 0, 0, 0]\n",
      "[1, 0, 0, 1, 1, 0, 1, 1, 0, 0, 0, 1, 1, 1, 1, 0, 0, 1, 1, 0, 0, 0, 1, 1, 1, 1, 1, 1, 0, 1, 0, 0, 1, 0, 0, 0, 0, 1, 0, 0, 1, 0, 0, 1, 0, 0, 0, 0, 1, 0, 0, 1, 0, 1, 0, 1, 1, 1, 0, 1, 0, 1, 1, 1, 1, 1, 0, 0, 1, 0, 0, 1, 0, 1, 1, 1, 1, 1, 1, 1, 1, 1, 1, 1, 1, 0, 0, 0, 1, 0, 1, 0, 1, 1, 1, 0, 1, 0, 0, 1, 1, 1, 1, 1, 1]\n",
      "[1, 0, 0, 0, 1, 0, 0, 0, 0, 0, 0, 0, 1, 1, 0, 1, 0, 0, 1, 0, 1, 1, 0, 0, 1, 1, 0, 1, 0, 1, 0, 0, 0, 1, 0, 0, 1, 0, 0, 0, 0, 0, 1, 0, 1, 1, 0, 0, 1, 0, 1, 1, 0, 1, 0, 1, 0, 0, 0, 0, 0, 0, 0, 0, 0, 1, 1, 1, 1, 0, 1, 0, 1, 1, 1, 0, 1, 0, 1, 0, 0, 0, 1, 0, 1, 0, 0, 0, 0, 0, 0, 1, 0, 1, 0, 0, 1, 0, 0, 0, 0, 1, 0, 0, 0]\n"
     ]
    }
   ],
   "source": [
    "#Bagging of words\n",
    "bow=[]\n",
    "ignore_characters = ['?','|','%','#','`','.']\n",
    "for i in sms.text:\n",
    "    t=[]\n",
    "    wt=word_tokenize(i.lower())\n",
    "    clean_words = [w for w in wt if w not in ignore_characters]\n",
    "    clean_words = [w for w in clean_words if not w.isdigit()]\n",
    "    clean_words = [w for w in clean_words if w not in stop_words]\n",
    "    clean_words = [stemming.stem(w) for w in clean_words]\n",
    "    for w in unique_words:\n",
    "        if w in clean_words:\n",
    "            t.append(1)\n",
    "        else:\n",
    "            t.append(0)\n",
    "    print(t)\n",
    "    bow.append(t)"
   ]
  },
  {
   "cell_type": "code",
   "execution_count": 23,
   "id": "bdcb38c0",
   "metadata": {},
   "outputs": [
    {
     "name": "stdout",
     "output_type": "stream",
     "text": [
      "(8, 105)\n"
     ]
    }
   ],
   "source": [
    "#convert bag of words into dataframe\n",
    "df=pd.DataFrame(bow,columns=unique_words)\n",
    "print(df.shape)"
   ]
  },
  {
   "cell_type": "code",
   "execution_count": 24,
   "id": "f7500bcf",
   "metadata": {},
   "outputs": [
    {
     "data": {
      "text/plain": [
       "'s        7\n",
       "abl       1\n",
       "ad        1\n",
       "add       6\n",
       "alter     4\n",
       "         ..\n",
       "window    1\n",
       "within    4\n",
       "work      1\n",
       "xx        1\n",
       "yet       1\n",
       "Length: 105, dtype: int64"
      ]
     },
     "execution_count": 24,
     "metadata": {},
     "output_type": "execute_result"
    }
   ],
   "source": [
    "#print occurence count of each word\n",
    "df.sum()"
   ]
  },
  {
   "cell_type": "code",
   "execution_count": 18,
   "id": "4b7178d4",
   "metadata": {},
   "outputs": [
    {
     "name": "stdout",
     "output_type": "stream",
     "text": [
      "0.8859315589353612\n"
     ]
    }
   ],
   "source": [
    "#Perception tags like codes for grammar like plural etc.\n",
    "from nltk.tag import PerceptronTagger\n",
    "from nltk.corpus import treebank\n",
    "tagger = PerceptronTagger()\n",
    "gold_data = treebank.tagged_sents()[10:20]\n",
    "print(tagger.accuracy(gold_data)) "
   ]
  },
  {
   "cell_type": "code",
   "execution_count": 20,
   "id": "58b859e4",
   "metadata": {},
   "outputs": [],
   "source": [
    "from nltk.tbl.template import Template\n",
    "from nltk.tag.brill import Pos, Word\n",
    "from nltk.tag import untag, RegexpTagger, BrillTaggerTrainer, UnigramTagger"
   ]
  },
  {
   "cell_type": "code",
   "execution_count": 27,
   "id": "fe581cab",
   "metadata": {},
   "outputs": [
    {
     "data": {
      "text/plain": [
       "0.5817490494296578"
      ]
     },
     "execution_count": 27,
     "metadata": {},
     "output_type": "execute_result"
    }
   ],
   "source": [
    "baseline_data = treebank.tagged_sents()[100:200]\n",
    "unigram_tagger = UnigramTagger(baseline_data)\n",
    "type(unigram_tagger)\n",
    "unigram_tagger.accuracy(gold_data) "
   ]
  }
 ],
 "metadata": {
  "kernelspec": {
   "display_name": "Python 3 (ipykernel)",
   "language": "python",
   "name": "python3"
  },
  "language_info": {
   "codemirror_mode": {
    "name": "ipython",
    "version": 3
   },
   "file_extension": ".py",
   "mimetype": "text/x-python",
   "name": "python",
   "nbconvert_exporter": "python",
   "pygments_lexer": "ipython3",
   "version": "3.11.3"
  }
 },
 "nbformat": 4,
 "nbformat_minor": 5
}
