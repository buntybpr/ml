{
 "cells": [
  {
   "cell_type": "code",
   "execution_count": 26,
   "metadata": {},
   "outputs": [],
   "source": [
    "#import nltk\n",
    "from nltk.tokenize import sent_tokenize, word_tokenize\n",
    "from nltk.corpus import stopwords\n",
    "from nltk.stem import PorterStemmer"
   ]
  },
  {
   "cell_type": "code",
   "execution_count": 4,
   "metadata": {},
   "outputs": [
    {
     "name": "stdout",
     "output_type": "stream",
     "text": [
      "showing info https://raw.githubusercontent.com/nltk/nltk_data/gh-pages/index.xml\n"
     ]
    }
   ],
   "source": [
    "nltk.download()"
   ]
  },
  {
   "cell_type": "markdown",
   "metadata": {},
   "source": [
    "Tokenize sentences"
   ]
  },
  {
   "cell_type": "code",
   "execution_count": 34,
   "metadata": {},
   "outputs": [
    {
     "name": "stdout",
     "output_type": "stream",
     "text": [
      "['I will go to India theirafter I am going to Canada.', 'This is what I am planning and  I hope everything will go as per plan.']\n"
     ]
    }
   ],
   "source": [
    "str = 'I will go to India theirafter I am going to Canada. This is what I am planning and  I hope everything will go as per plan.'\n",
    "print(sent_tokenize(str))"
   ]
  },
  {
   "cell_type": "markdown",
   "metadata": {},
   "source": [
    "Tokenize Words"
   ]
  },
  {
   "cell_type": "code",
   "execution_count": 35,
   "metadata": {},
   "outputs": [
    {
     "name": "stdout",
     "output_type": "stream",
     "text": [
      "['I', 'will', 'go', 'to', 'India', 'theirafter', 'I', 'am', 'going', 'to', 'Canada', '.', 'This', 'is', 'what', 'I', 'am', 'planning', 'and', 'I', 'hope', 'everything', 'will', 'go', 'as', 'per', 'plan', '.']\n"
     ]
    }
   ],
   "source": [
    "print(word_tokenize(str))"
   ]
  },
  {
   "cell_type": "markdown",
   "metadata": {},
   "source": [
    "List Stopwords "
   ]
  },
  {
   "cell_type": "code",
   "execution_count": 36,
   "metadata": {},
   "outputs": [
    {
     "name": "stdout",
     "output_type": "stream",
     "text": [
      "{\"should've\", 'hasn', 'didn', \"mightn't\", 'once', 'just', 'their', 'me', 'there', 'during', 'shouldn', 'y', 'it', 've', \"mustn't\", 'his', 'hers', 'm', \"aren't\", 'nor', \"she's\", 'do', \"you'll\", 'ourselves', 'yourselves', 'aren', \"you're\", 'into', 'other', 'what', 'both', 'they', 'between', \"don't\", 'hadn', 'all', 'myself', \"you'd\", 'are', 'can', 'him', 'o', \"needn't\", 'i', 'itself', 'each', 'we', 'ain', 'off', 'them', 'you', 'such', 'yours', 'our', 'against', 'she', 'in', 'then', \"hadn't\", 'why', \"it's\", 'd', 'needn', 'her', 'isn', 'most', 'whom', 'and', 'out', 'as', 'those', 's', 'its', 'which', 'until', 'be', 'too', 't', \"won't\", 'of', 'mustn', 'is', 'while', 'being', 'haven', 'was', 'an', 'only', 'when', 'up', 'more', 'had', \"didn't\", \"shan't\", 'will', 'over', 'than', 're', 'does', 'yourself', \"that'll\", 'has', 'been', 'because', 'same', 'again', \"hasn't\", 'he', \"isn't\", 'that', 'am', 'if', 'the', 'themselves', 'through', 'some', 'with', 'very', 'further', 'by', \"couldn't\", 'won', 'herself', 'this', 'before', 'any', 'so', \"wouldn't\", 'own', \"shouldn't\", 'ours', 'having', 'but', 'wasn', 'don', 'who', 'doing', 'for', 'weren', 'below', 'have', 'from', 'how', 'now', 'at', 'mightn', 'wouldn', 'about', 'll', 'himself', 'shan', 'should', \"doesn't\", 'no', 'my', 'after', \"haven't\", 'to', 'on', \"weren't\", 'few', 'or', 'theirs', 'under', 'couldn', 'doesn', 'your', 'where', 'were', 'ma', 'did', 'down', 'these', \"wasn't\", 'here', \"you've\", 'not', 'above', 'a'}\n"
     ]
    }
   ],
   "source": [
    "stop_words = set(stopwords.words(\"english\"))\n",
    "print(stop_words)"
   ]
  },
  {
   "cell_type": "markdown",
   "metadata": {},
   "source": [
    "Remove stopwords from words in str"
   ]
  },
  {
   "cell_type": "code",
   "execution_count": 42,
   "metadata": {},
   "outputs": [
    {
     "name": "stdout",
     "output_type": "stream",
     "text": [
      "28\n"
     ]
    },
    {
     "data": {
      "text/plain": [
       "18"
      ]
     },
     "execution_count": 42,
     "metadata": {},
     "output_type": "execute_result"
    }
   ],
   "source": [
    "words = word_tokenize(str)\n",
    "print(len(words))\n",
    "token_words = [w for w in words if w not in stop_words]\n",
    "len(token_words)"
   ]
  },
  {
   "cell_type": "markdown",
   "metadata": {},
   "source": [
    "Steming - It will derive the base word. For example, riding to ride."
   ]
  },
  {
   "cell_type": "code",
   "execution_count": 44,
   "metadata": {},
   "outputs": [
    {
     "data": {
      "text/plain": [
       "['i',\n",
       " 'go',\n",
       " 'india',\n",
       " 'theiraft',\n",
       " 'i',\n",
       " 'go',\n",
       " 'canada',\n",
       " '.',\n",
       " 'thi',\n",
       " 'i',\n",
       " 'plan',\n",
       " 'i',\n",
       " 'hope',\n",
       " 'everyth',\n",
       " 'go',\n",
       " 'per',\n",
       " 'plan',\n",
       " '.']"
      ]
     },
     "execution_count": 44,
     "metadata": {},
     "output_type": "execute_result"
    }
   ],
   "source": [
    "ps = PorterStemmer()\n",
    "stemed_words = [ps.stem(w) for w in token_words ]\n",
    "stemed_words"
   ]
  },
  {
   "cell_type": "markdown",
   "metadata": {},
   "source": [
    "Label each words in text using PunkSentenceTokenizer. It is unsupervised model"
   ]
  },
  {
   "cell_type": "code",
   "execution_count": 50,
   "metadata": {},
   "outputs": [],
   "source": [
    "from nltk.corpus import state_union\n",
    "from nltk.tokenize import PunktSentenceTokenizer\n",
    "\n",
    "custom"
   ]
  }
 ],
 "metadata": {
  "kernelspec": {
   "display_name": "Python 3.11.5 ('base')",
   "language": "python",
   "name": "python3"
  },
  "language_info": {
   "codemirror_mode": {
    "name": "ipython",
    "version": 3
   },
   "file_extension": ".py",
   "mimetype": "text/x-python",
   "name": "python",
   "nbconvert_exporter": "python",
   "pygments_lexer": "ipython3",
   "version": "3.11.5"
  },
  "orig_nbformat": 4,
  "vscode": {
   "interpreter": {
    "hash": "ab79f184cb29c2ce11509aa80abc9aa3432cb66b37c5e46c19741f02c8015033"
   }
  }
 },
 "nbformat": 4,
 "nbformat_minor": 2
}
